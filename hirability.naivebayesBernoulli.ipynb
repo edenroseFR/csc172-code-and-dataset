{
 "cells": [
  {
   "cell_type": "code",
   "execution_count": 2,
   "id": "7cde0e71",
   "metadata": {},
   "outputs": [],
   "source": [
    "import numpy as np\n",
    "import pandas as pd\n",
    "import seaborn as sns\n",
    "import matplotlib.pyplot as plt\n",
    "from sklearn import preprocessing\n",
    "from sklearn.model_selection import train_test_split\n",
    "from sklearn.inspection import permutation_importance\n",
    "from sklearn.naive_bayes import BernoulliNB\n",
    "from sklearn.metrics import classification_report, confusion_matrix, accuracy_score\n",
    "\n",
    "import warnings\n",
    "warnings.filterwarnings('ignore')"
   ]
  },
  {
   "cell_type": "markdown",
   "id": "5b17048a",
   "metadata": {},
   "source": [
    "#### FEATURE SELECTION"
   ]
  },
  {
   "cell_type": "code",
   "execution_count": 16,
   "id": "f6d6b908",
   "metadata": {},
   "outputs": [
    {
     "data": {
      "text/plain": [
       "Text(0.5, 1.0, 'Feature Importance')"
      ]
     },
     "execution_count": 16,
     "metadata": {},
     "output_type": "execute_result"
    },
    {
     "data": {
      "image/png": "[encoded data removed]",
      "text/plain": [
       "<Figure size 432x288 with 1 Axes>"
      ]
     },
     "metadata": {
      "needs_background": "dark"
     },
     "output_type": "display_data"
    }
   ],
   "source": [
    "# Load data\n",
    "orig_data = pd.read_csv('hirability_balanced_for_feature_selection.csv')\n",
    "data = pd.read_csv('hirability_balanced_for_feature_selection.csv')\n",
    "# clean data\n",
    "data['commits'] = data['commits'].fillna(0)\n",
    "# \n",
    "data = pd.get_dummies(data, drop_first=True)\n",
    "\n",
    "column_to_move = data.pop(\"hirable\")\n",
    "data.insert(0, \"hirable\", column_to_move)\n",
    "X = data.iloc[0:, 1:]\n",
    "y = data.iloc[0:, 0:1]\n",
    "\n",
    "X_train, X_test, y_train, y_test = train_test_split(X, y,test_size=0.2, random_state = 0)\n",
    "\n",
    "# Fitting Naive Bayes to the Training set  \n",
    "from sklearn.naive_bayes import BernoulliNB\n",
    "classifier = BernoulliNB()  \n",
    "classifier.fit(X_train, y_train) \n",
    "\n",
    "importances = permutation_importance(classifier, X_test, y_test)\n",
    "plt.bar(data.columns.tolist()[1:], importances.importances_mean.tolist(), width=0.6)\n",
    "plt.xticks(rotation='vertical', color='white')\n",
    "plt.yticks(color='white')\n",
    "plt.title('Feature Importance', color='white')"
   ]
  },
  {
   "cell_type": "markdown",
   "id": "6a4ffc54",
   "metadata": {},
   "source": [
    "### BUILDING THE MODEL"
   ]
  },
  {
   "cell_type": "markdown",
   "id": "dd18aba1",
   "metadata": {},
   "source": [
    "#### Load and clean data"
   ]
  },
  {
   "cell_type": "code",
   "execution_count": 177,
   "id": "2790319b",
   "metadata": {},
   "outputs": [
    {
     "data": {
      "text/html": [
       "<div>\n",
       "<style scoped>\n",
       "    .dataframe tbody tr th:only-of-type {\n",
       "        vertical-align: middle;\n",
       "    }\n",
       "\n",
       "    .dataframe tbody tr th {\n",
       "        vertical-align: top;\n",
       "    }\n",
       "\n",
       "    .dataframe thead th {\n",
       "        text-align: right;\n",
       "    }\n",
       "</style>\n",
       "<table border=\"1\" class=\"dataframe\">\n",
       "  <thead>\n",
       "    <tr style=\"text-align: right;\">\n",
       "      <th></th>\n",
       "      <th>hirable</th>\n",
       "      <th>has_bio</th>\n",
       "      <th>has_blog</th>\n",
       "      <th>followers</th>\n",
       "      <th>followings</th>\n",
       "      <th>commits</th>\n",
       "      <th>public_gist</th>\n",
       "      <th>public_repos</th>\n",
       "    </tr>\n",
       "  </thead>\n",
       "  <tbody>\n",
       "    <tr>\n",
       "      <th>0</th>\n",
       "      <td>0</td>\n",
       "      <td>0</td>\n",
       "      <td>0</td>\n",
       "      <td>9</td>\n",
       "      <td>10</td>\n",
       "      <td>12.0</td>\n",
       "      <td>0</td>\n",
       "      <td>18</td>\n",
       "    </tr>\n",
       "    <tr>\n",
       "      <th>1</th>\n",
       "      <td>0</td>\n",
       "      <td>0</td>\n",
       "      <td>0</td>\n",
       "      <td>0</td>\n",
       "      <td>0</td>\n",
       "      <td>5.0</td>\n",
       "      <td>0</td>\n",
       "      <td>1</td>\n",
       "    </tr>\n",
       "    <tr>\n",
       "      <th>2</th>\n",
       "      <td>0</td>\n",
       "      <td>0</td>\n",
       "      <td>0</td>\n",
       "      <td>1</td>\n",
       "      <td>3</td>\n",
       "      <td>36.0</td>\n",
       "      <td>0</td>\n",
       "      <td>5</td>\n",
       "    </tr>\n",
       "    <tr>\n",
       "      <th>3</th>\n",
       "      <td>0</td>\n",
       "      <td>0</td>\n",
       "      <td>1</td>\n",
       "      <td>9</td>\n",
       "      <td>8</td>\n",
       "      <td>55.0</td>\n",
       "      <td>1</td>\n",
       "      <td>9</td>\n",
       "    </tr>\n",
       "    <tr>\n",
       "      <th>4</th>\n",
       "      <td>0</td>\n",
       "      <td>0</td>\n",
       "      <td>0</td>\n",
       "      <td>3</td>\n",
       "      <td>4</td>\n",
       "      <td>0.0</td>\n",
       "      <td>0</td>\n",
       "      <td>3</td>\n",
       "    </tr>\n",
       "  </tbody>\n",
       "</table>\n",
       "</div>"
      ],
      "text/plain": [
       "   hirable  has_bio  has_blog  followers  followings  commits  public_gist  \\\n",
       "0        0        0         0          9          10     12.0            0   \n",
       "1        0        0         0          0           0      5.0            0   \n",
       "2        0        0         0          1           3     36.0            0   \n",
       "3        0        0         1          9           8     55.0            1   \n",
       "4        0        0         0          3           4      0.0            0   \n",
       "\n",
       "   public_repos  \n",
       "0            18  \n",
       "1             1  \n",
       "2             5  \n",
       "3             9  \n",
       "4             3  "
      ]
     },
     "execution_count": 177,
     "metadata": {},
     "output_type": "execute_result"
    }
   ],
   "source": [
    "orig_data = pd.read_csv('hirability_balanced.csv')\n",
    "data = pd.read_csv('hirability_balanced.csv')\n",
    "\n",
    "data['commits'] = data['commits'].fillna(0)\n",
    "data.pop(\"country\")\n",
    "\n",
    "column_to_move = data.pop(\"hirable\")\n",
    "data.insert(0, \"hirable\", column_to_move)\n",
    "\n",
    "data.head()"
   ]
  },
  {
   "cell_type": "markdown",
   "id": "1333781b",
   "metadata": {},
   "source": [
    "#### Split data"
   ]
  },
  {
   "cell_type": "code",
   "execution_count": 178,
   "id": "4abbca50",
   "metadata": {},
   "outputs": [],
   "source": [
    "X = data.iloc[0:, 1:]\n",
    "y = data.iloc[0:, 0:1]\n",
    "\n",
    "X_train, X_test, y_train, y_test = train_test_split(X, y,test_size=0.2, random_state = 0)"
   ]
  },
  {
   "cell_type": "markdown",
   "id": "007f6f9f",
   "metadata": {},
   "source": [
    "#### Train and test the model"
   ]
  },
  {
   "cell_type": "code",
   "execution_count": 179,
   "id": "6d23b4d8",
   "metadata": {},
   "outputs": [
    {
     "data": {
      "text/plain": [
       "BernoulliNB()"
      ]
     },
     "execution_count": 179,
     "metadata": {},
     "output_type": "execute_result"
    }
   ],
   "source": [
    "classifier = BernoulliNB()  \n",
    "classifier.fit(X_train, y_train)  "
   ]
  },
  {
   "cell_type": "code",
   "execution_count": 180,
   "id": "ff16795d",
   "metadata": {},
   "outputs": [],
   "source": [
    "y_pred = classifier.predict(X_test)  "
   ]
  },
  {
   "cell_type": "code",
   "execution_count": 181,
   "id": "f5a9dea7",
   "metadata": {},
   "outputs": [
    {
     "name": "stdout",
     "output_type": "stream",
     "text": [
      "Accuracy               precision    recall  f1-score   support\n",
      "\n",
      "           0       0.70      0.64      0.67       243\n",
      "           1       0.68      0.74      0.71       257\n",
      "\n",
      "    accuracy                           0.69       500\n",
      "   macro avg       0.69      0.69      0.69       500\n",
      "weighted avg       0.69      0.69      0.69       500\n",
      "\n"
     ]
    }
   ],
   "source": [
    "print('Accuracy', classification_report(y_test,y_pred))"
   ]
  },
  {
   "cell_type": "code",
   "execution_count": null,
   "id": "5dfb36f4",
   "metadata": {},
   "outputs": [],
   "source": []
  },
  {
   "cell_type": "code",
   "execution_count": null,
   "id": "ccdf0d96",
   "metadata": {},
   "outputs": [],
   "source": []
  }
 ],
 "metadata": {
  "kernelspec": {
   "display_name": "Python 3 (ipykernel)",
   "language": "python",
   "name": "python3"
  },
  "language_info": {
   "codemirror_mode": {
    "name": "ipython",
    "version": 3
   },
   "file_extension": ".py",
   "mimetype": "text/x-python",
   "name": "python",
   "nbconvert_exporter": "python",
   "pygments_lexer": "ipython3",
   "version": "3.9.12"
  }
 },
 "nbformat": 4,
 "nbformat_minor": 5
}
